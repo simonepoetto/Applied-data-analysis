{
 "cells": [
  {
   "cell_type": "code",
   "execution_count": 18,
   "metadata": {},
   "outputs": [],
   "source": [
    "from scipy.stats import f_oneway, shapiro, levene\n",
    "from statsmodels.stats.multicomp import pairwise_tukeyhsd"
   ]
  },
  {
   "cell_type": "markdown",
   "metadata": {},
   "source": [
    "# Anova\n",
    "## ANalysis Of VAriance"
   ]
  },
  {
   "cell_type": "markdown",
   "metadata": {},
   "source": [
    "### Example 1\n",
    "In one lab 4 people were employed to analyze the phosphorus content in hay.\n",
    "\n",
    "The results of the same tests carried out by these 4 people are summarized below:"
   ]
  },
  {
   "cell_type": "code",
   "execution_count": 1,
   "metadata": {},
   "outputs": [],
   "source": [
    "t1 = [34,36,34,35,34]\n",
    "t2 = [37,36,35,37,37]\n",
    "t3 = [34,37,35,37,36]\n",
    "t4 = [36,34,37,34,35]"
   ]
  },
  {
   "cell_type": "markdown",
   "metadata": {},
   "source": [
    "Is the result dependent on the person? Let's use one-way Anova. (Pay attention because you need normal distribution of parameters and homogeneity of variance in group to do this)"
   ]
  },
  {
   "cell_type": "code",
   "execution_count": 3,
   "metadata": {},
   "outputs": [
    {
     "data": {
      "text/plain": [
       "F_onewayResult(statistic=2.3999999999999995, pvalue=0.10589810813700151)"
      ]
     },
     "execution_count": 3,
     "metadata": {},
     "output_type": "execute_result"
    }
   ],
   "source": [
    "f_oneway(t1,t2,t3,t4)"
   ]
  },
  {
   "cell_type": "markdown",
   "metadata": {},
   "source": [
    "The results are not dependent on the person.\n",
    "\n",
    "## Let's check the data and do a normality test."
   ]
  },
  {
   "cell_type": "code",
   "execution_count": 7,
   "metadata": {},
   "outputs": [
    {
     "name": "stdout",
     "output_type": "stream",
     "text": [
      "ShapiroResult(statistic=0.770907998085022, pvalue=0.04595435410737991)\n",
      "ShapiroResult(statistic=0.7709077596664429, pvalue=0.04595416039228439)\n",
      "ShapiroResult(statistic=0.902019739151001, pvalue=0.42114925384521484)\n",
      "ShapiroResult(statistic=0.9020198583602905, pvalue=0.4211500287055969)\n"
     ]
    }
   ],
   "source": [
    "print(shapiro(t1))\n",
    "print(shapiro(t2))\n",
    "print(shapiro(t3))\n",
    "print(shapiro(t4))"
   ]
  },
  {
   "cell_type": "markdown",
   "metadata": {},
   "source": [
    "We cannot be sure because we have to reject the normality hypotesis for the first two samples.\n",
    "\n",
    "We also have to check homogeneity of variance."
   ]
  },
  {
   "cell_type": "markdown",
   "metadata": {},
   "source": [
    "### Example 2\n",
    "The influence of light intensity on the size of plant biomass was studied. \n",
    "They were grown on plots at 5 different light intensities (A-E) in 4 replicates. After the experiment, biomass of plants on plots [g / m2] was determined. \n",
    "\n",
    "The results are summarized below:"
   ]
  },
  {
   "cell_type": "code",
   "execution_count": 8,
   "metadata": {},
   "outputs": [],
   "source": [
    "A = [10,12,8,10]\n",
    "B = [15,12,15,10]\n",
    "C = [11,15,20,14]\n",
    "D = [5,10,15,6]\n",
    "E = [8,10,8,6]"
   ]
  },
  {
   "cell_type": "markdown",
   "metadata": {},
   "source": [
    "We can perform again one way anova test, but first let's do a normality test."
   ]
  },
  {
   "cell_type": "code",
   "execution_count": 9,
   "metadata": {},
   "outputs": [
    {
     "name": "stdout",
     "output_type": "stream",
     "text": [
      "ShapiroResult(statistic=0.9446643590927124, pvalue=0.6829614043235779)\n",
      "ShapiroResult(statistic=0.8603792190551758, pvalue=0.2615739107131958)\n",
      "ShapiroResult(statistic=0.9605780839920044, pvalue=0.78254634141922)\n",
      "ShapiroResult(statistic=0.9164720773696899, pvalue=0.5173543691635132)\n",
      "ShapiroResult(statistic=0.9446643590927124, pvalue=0.6829614043235779)\n"
     ]
    }
   ],
   "source": [
    "print(shapiro(A))\n",
    "print(shapiro(B))\n",
    "print(shapiro(C))\n",
    "print(shapiro(D))\n",
    "print(shapiro(E))"
   ]
  },
  {
   "cell_type": "markdown",
   "metadata": {},
   "source": [
    "In this case we can apply ANOVA"
   ]
  },
  {
   "cell_type": "code",
   "execution_count": 11,
   "metadata": {},
   "outputs": [
    {
     "data": {
      "text/plain": [
       "F_onewayResult(statistic=3.695652173913044, pvalue=0.02755165174982792)"
      ]
     },
     "execution_count": 11,
     "metadata": {},
     "output_type": "execute_result"
    }
   ],
   "source": [
    "f_oneway(A,B,C,D,E)"
   ]
  },
  {
   "cell_type": "markdown",
   "metadata": {},
   "source": [
    "The p-value is below 0.05. We can conclude that lights significantly affect plants biomass."
   ]
  },
  {
   "cell_type": "code",
   "execution_count": 13,
   "metadata": {},
   "outputs": [
    {
     "data": {
      "text/plain": [
       "LeveneResult(statistic=1.4673913043478262, pvalue=0.2612203669276995)"
      ]
     },
     "execution_count": 13,
     "metadata": {},
     "output_type": "execute_result"
    }
   ],
   "source": [
    "levene(A,B,C,D,E)"
   ]
  },
  {
   "cell_type": "markdown",
   "metadata": {},
   "source": [
    "Levene test is used to check the homogenity of variances between groups."
   ]
  },
  {
   "cell_type": "markdown",
   "metadata": {},
   "source": [
    "### Example 5"
   ]
  },
  {
   "cell_type": "markdown",
   "metadata": {},
   "source": [
    "Microbial strains were counted based on samples from three different paintings in 29 samples (9 taken from painting 1 and 10 from painting 2 and 3). Below are the results: "
   ]
  },
  {
   "cell_type": "code",
   "execution_count": 19,
   "metadata": {},
   "outputs": [],
   "source": [
    "p1 = [48,57,31,53,51,64,44,61,40]\n",
    "p2 = [37,30,45,52,22,35,27,40,47,32]\n",
    "p3 = [46,31,32,44,56,22,33,44,34,40]"
   ]
  },
  {
   "cell_type": "code",
   "execution_count": 20,
   "metadata": {},
   "outputs": [
    {
     "name": "stdout",
     "output_type": "stream",
     "text": [
      "ShapiroResult(statistic=0.9781856536865234, pvalue=0.954296350479126)\n",
      "ShapiroResult(statistic=0.9846833944320679, pvalue=0.985274076461792)\n",
      "ShapiroResult(statistic=0.967602014541626, pvalue=0.8677651286125183)\n"
     ]
    }
   ],
   "source": [
    "#Normality test\n",
    "print(shapiro(p1))\n",
    "print(shapiro(p2))\n",
    "print(shapiro(p3))"
   ]
  },
  {
   "cell_type": "markdown",
   "metadata": {},
   "source": [
    "Is there a difference in the number of bacterial strains between these  three paintings?\n",
    "\n",
    "Anova one way"
   ]
  },
  {
   "cell_type": "code",
   "execution_count": 22,
   "metadata": {},
   "outputs": [
    {
     "data": {
      "text/plain": [
       "F_onewayResult(statistic=5.0071710674902645, pvalue=0.014470122413456936)"
      ]
     },
     "execution_count": 22,
     "metadata": {},
     "output_type": "execute_result"
    }
   ],
   "source": [
    "f_oneway(p1,p2,p3)"
   ]
  },
  {
   "cell_type": "code",
   "execution_count": 24,
   "metadata": {},
   "outputs": [
    {
     "data": {
      "text/plain": [
       "LeveneResult(statistic=0.01951926902198324, pvalue=0.9806843548488116)"
      ]
     },
     "execution_count": 24,
     "metadata": {},
     "output_type": "execute_result"
    }
   ],
   "source": [
    "#Let's also check homogeinity of variances\n",
    "levene(p1,p2,p3)"
   ]
  },
  {
   "cell_type": "markdown",
   "metadata": {},
   "source": [
    "Now, to recognize differences between this 3 objects we can use post_hoc test"
   ]
  },
  {
   "cell_type": "code",
   "execution_count": null,
   "metadata": {},
   "outputs": [],
   "source": []
  }
 ],
 "metadata": {
  "kernelspec": {
   "display_name": "Python 3",
   "language": "python",
   "name": "python3"
  },
  "language_info": {
   "codemirror_mode": {
    "name": "ipython",
    "version": 3
   },
   "file_extension": ".py",
   "mimetype": "text/x-python",
   "name": "python",
   "nbconvert_exporter": "python",
   "pygments_lexer": "ipython3",
   "version": "3.7.4"
  }
 },
 "nbformat": 4,
 "nbformat_minor": 4
}
